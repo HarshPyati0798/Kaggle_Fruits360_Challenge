{
 "cells": [
  {
   "cell_type": "code",
   "execution_count": 1,
   "metadata": {},
   "outputs": [],
   "source": [
    "import numpy as np\n",
    "import pandas as pd\n",
    "import matplotlib.pyplot as plt\n",
    "%matplotlib inline\n",
    "\n",
    "import os\n",
    "import cv2\n",
    "import glob"
   ]
  },
  {
   "cell_type": "code",
   "execution_count": 2,
   "metadata": {},
   "outputs": [],
   "source": [
    "DATADIR = \"C:/ML_and_DL_project_Datasets/fruits-360/Training/*\""
   ]
  },
  {
   "cell_type": "code",
   "execution_count": 3,
   "metadata": {},
   "outputs": [],
   "source": [
    "X_train = []\n",
    "\n",
    "for dir_path in glob.glob(\"C:/ML_and_DL_project_Datasets/fruits-360/Training/*\"):\n",
    "    img_label = dir_path.split(\"/\")[-1]\n",
    "    for img_path in glob.glob(os.path.join(dir_path, \"*.jpg\")):\n",
    "        img = cv2.imread(img_path,cv2.IMREAD_GRAYSCALE)\n",
    "        img = cv2.resize(img, (64, 64))\n",
    "        X_train.append([img,img_label])"
   ]
  },
  {
   "cell_type": "code",
   "execution_count": 4,
   "metadata": {},
   "outputs": [],
   "source": [
    "train_data = np.array(X_train)"
   ]
  },
  {
   "cell_type": "code",
   "execution_count": 5,
   "metadata": {},
   "outputs": [
    {
     "data": {
      "text/plain": [
       "(41322, 2)"
      ]
     },
     "execution_count": 5,
     "metadata": {},
     "output_type": "execute_result"
    }
   ],
   "source": [
    "train_data.shape"
   ]
  },
  {
   "cell_type": "markdown",
   "metadata": {},
   "source": [
    "## Loading the test data"
   ]
  },
  {
   "cell_type": "code",
   "execution_count": 6,
   "metadata": {},
   "outputs": [],
   "source": [
    "X_test = []\n",
    "\n",
    "for dir_path in glob.glob(\"C:/ML_and_DL_project_Datasets/fruits-360/Test/*\"):\n",
    "    img_label = dir_path.split(\"/\")[-1]\n",
    "    for img_path in glob.glob(os.path.join(dir_path, \"*.jpg\")):\n",
    "        img = cv2.imread(img_path,cv2.IMREAD_GRAYSCALE)\n",
    "        img = cv2.resize(img, (64, 64))\n",
    "        X_test.append([img,img_label])"
   ]
  },
  {
   "cell_type": "code",
   "execution_count": 7,
   "metadata": {},
   "outputs": [],
   "source": [
    "test_data = np.array(X_test)"
   ]
  },
  {
   "cell_type": "code",
   "execution_count": 8,
   "metadata": {},
   "outputs": [
    {
     "data": {
      "text/plain": [
       "(13877, 2)"
      ]
     },
     "execution_count": 8,
     "metadata": {},
     "output_type": "execute_result"
    }
   ],
   "source": [
    "test_data.shape"
   ]
  },
  {
   "cell_type": "markdown",
   "metadata": {},
   "source": [
    "## The given dataset has 41k training images and around 14k test images"
   ]
  },
  {
   "cell_type": "code",
   "execution_count": 9,
   "metadata": {},
   "outputs": [],
   "source": [
    "## We need to shuffle the dataset inorder to prevent the overfitting of training set"
   ]
  },
  {
   "cell_type": "code",
   "execution_count": 10,
   "metadata": {},
   "outputs": [],
   "source": [
    "X_train = []\n",
    "y_train = []\n",
    "for features,labels in train_data:\n",
    "    X_train.append(features)\n",
    "    y_train.append(labels)\n",
    "    "
   ]
  },
  {
   "cell_type": "code",
   "execution_count": 11,
   "metadata": {},
   "outputs": [
    {
     "data": {
      "text/plain": [
       "'Training\\\\Apple Braeburn'"
      ]
     },
     "execution_count": 11,
     "metadata": {},
     "output_type": "execute_result"
    }
   ],
   "source": [
    "y_train[0]"
   ]
  },
  {
   "cell_type": "code",
   "execution_count": 12,
   "metadata": {},
   "outputs": [],
   "source": [
    "label_to_id = {v : k for k, v in enumerate(np.unique(y_train))}\n",
    "id_to_label = {v : k for k, v in label_to_id.items()}"
   ]
  },
  {
   "cell_type": "code",
   "execution_count": 13,
   "metadata": {},
   "outputs": [],
   "source": [
    "training_label_id = np.array([label_to_id[i] for i in y_train])"
   ]
  },
  {
   "cell_type": "code",
   "execution_count": 14,
   "metadata": {},
   "outputs": [],
   "source": [
    "y_train = training_label_id"
   ]
  },
  {
   "cell_type": "code",
   "execution_count": 15,
   "metadata": {},
   "outputs": [],
   "source": [
    "y_train = np.array(y_train)"
   ]
  },
  {
   "cell_type": "code",
   "execution_count": 16,
   "metadata": {},
   "outputs": [
    {
     "data": {
      "text/plain": [
       "81"
      ]
     },
     "execution_count": 16,
     "metadata": {},
     "output_type": "execute_result"
    }
   ],
   "source": [
    "len(np.unique(y_train))"
   ]
  },
  {
   "cell_type": "code",
   "execution_count": 17,
   "metadata": {},
   "outputs": [],
   "source": [
    "X_train = np.array(X_train)"
   ]
  },
  {
   "cell_type": "code",
   "execution_count": 18,
   "metadata": {},
   "outputs": [],
   "source": [
    "X_train = X_train/255.0"
   ]
  },
  {
   "cell_type": "code",
   "execution_count": 19,
   "metadata": {},
   "outputs": [
    {
     "data": {
      "text/plain": [
       "array([[ 1.        ,  1.        ,  1.        , ...,  0.99607843,\n",
       "         1.        ,  1.        ],\n",
       "       [ 1.        ,  1.        ,  1.        , ...,  1.        ,\n",
       "         1.        ,  1.        ],\n",
       "       [ 1.        ,  1.        ,  1.        , ...,  1.        ,\n",
       "         1.        ,  1.        ],\n",
       "       ..., \n",
       "       [ 0.99607843,  0.99607843,  1.        , ...,  1.        ,\n",
       "         1.        ,  1.        ],\n",
       "       [ 1.        ,  1.        ,  1.        , ...,  1.        ,\n",
       "         1.        ,  1.        ],\n",
       "       [ 1.        ,  1.        ,  1.        , ...,  1.        ,\n",
       "         1.        ,  1.        ]])"
      ]
     },
     "execution_count": 19,
     "metadata": {},
     "output_type": "execute_result"
    }
   ],
   "source": [
    "X_train[0]"
   ]
  },
  {
   "cell_type": "markdown",
   "metadata": {},
   "source": [
    "## Making our test data ready"
   ]
  },
  {
   "cell_type": "code",
   "execution_count": 20,
   "metadata": {},
   "outputs": [],
   "source": [
    "X_test = []\n",
    "y_test = []\n",
    "for features,labels in test_data:\n",
    "    X_test.append(features)\n",
    "    y_test.append(labels)\n",
    "    "
   ]
  },
  {
   "cell_type": "code",
   "execution_count": 21,
   "metadata": {},
   "outputs": [],
   "source": [
    "X_test = np.array(X_test)"
   ]
  },
  {
   "cell_type": "code",
   "execution_count": 22,
   "metadata": {},
   "outputs": [],
   "source": [
    "label_to_id = {v : k for k, v in enumerate(np.unique(y_test))}"
   ]
  },
  {
   "cell_type": "code",
   "execution_count": 23,
   "metadata": {},
   "outputs": [],
   "source": [
    "y_ = np.array([label_to_id[i] for i in y_test])"
   ]
  },
  {
   "cell_type": "code",
   "execution_count": 24,
   "metadata": {},
   "outputs": [
    {
     "data": {
      "text/plain": [
       "81"
      ]
     },
     "execution_count": 24,
     "metadata": {},
     "output_type": "execute_result"
    }
   ],
   "source": [
    "len(np.unique(y_))"
   ]
  },
  {
   "cell_type": "code",
   "execution_count": 25,
   "metadata": {},
   "outputs": [],
   "source": [
    "y_test = np.array(y_)"
   ]
  },
  {
   "cell_type": "code",
   "execution_count": 26,
   "metadata": {},
   "outputs": [],
   "source": [
    "X_test = X_test/255.0"
   ]
  },
  {
   "cell_type": "code",
   "execution_count": 28,
   "metadata": {},
   "outputs": [
    {
     "data": {
      "text/plain": [
       "(64, 64)"
      ]
     },
     "execution_count": 28,
     "metadata": {},
     "output_type": "execute_result"
    }
   ],
   "source": [
    "X_test[0].shape"
   ]
  },
  {
   "cell_type": "markdown",
   "metadata": {},
   "source": [
    "## Shuffling the train data"
   ]
  },
  {
   "cell_type": "markdown",
   "metadata": {},
   "source": []
  },
  {
   "cell_type": "code",
   "execution_count": 29,
   "metadata": {},
   "outputs": [],
   "source": [
    "train_data =[]\n",
    "train_data.append([X_train,y_train])"
   ]
  },
  {
   "cell_type": "code",
   "execution_count": 30,
   "metadata": {},
   "outputs": [],
   "source": [
    "np.random.shuffle(train_data)"
   ]
  },
  {
   "cell_type": "code",
   "execution_count": 31,
   "metadata": {},
   "outputs": [],
   "source": [
    "X_train = []\n",
    "y_train = []\n",
    "for feat,label in train_data:\n",
    "    X_train.append(feat)\n",
    "    y_train.append(label)\n",
    "X_train = np.array(X_train)\n",
    "y_train = np.array(y_train)\n"
   ]
  },
  {
   "cell_type": "code",
   "execution_count": 34,
   "metadata": {},
   "outputs": [
    {
     "data": {
      "text/plain": [
       "(1, 41322, 64, 64)"
      ]
     },
     "execution_count": 34,
     "metadata": {},
     "output_type": "execute_result"
    }
   ],
   "source": [
    "X_train.shape"
   ]
  },
  {
   "cell_type": "markdown",
   "metadata": {},
   "source": [
    "# BUILDING THE MODEL"
   ]
  },
  {
   "cell_type": "code",
   "execution_count": 35,
   "metadata": {},
   "outputs": [],
   "source": [
    "X_train = np.array(X_train).reshape(-1,64,64,1)"
   ]
  },
  {
   "cell_type": "code",
   "execution_count": 36,
   "metadata": {},
   "outputs": [
    {
     "name": "stderr",
     "output_type": "stream",
     "text": [
      "Using TensorFlow backend.\n"
     ]
    }
   ],
   "source": [
    "import keras"
   ]
  },
  {
   "cell_type": "code",
   "execution_count": 37,
   "metadata": {},
   "outputs": [],
   "source": [
    "from keras.models import Sequential"
   ]
  },
  {
   "cell_type": "code",
   "execution_count": 38,
   "metadata": {},
   "outputs": [],
   "source": [
    "from keras.layers import Dense,Conv2D,MaxPooling2D,Flatten,Dropout,Activation"
   ]
  },
  {
   "cell_type": "code",
   "execution_count": 39,
   "metadata": {},
   "outputs": [],
   "source": [
    "model = Sequential()\n",
    "\n",
    "model.add(Conv2D(filters=64,kernel_size=(3,3),input_shape=X_train.shape[1:]))\n",
    "model.add(Activation('relu'))\n",
    "model.add(MaxPooling2D(pool_size=(2,2)))\n",
    "\n",
    "model.add(Dropout(0.5))\n",
    "\n",
    "model.add(Conv2D(filters=64,kernel_size=(3,3)))\n",
    "model.add(Activation('relu'))\n",
    "model.add(MaxPooling2D(pool_size=(2,2)))\n",
    "\n",
    "model.add(Dropout(0.5))\n",
    "\n",
    "model.add(Conv2D(filters=64,kernel_size=(3,3)))\n",
    "model.add(Activation('relu'))\n",
    "model.add(MaxPooling2D(pool_size=(2,2)))\n",
    "\n",
    "model.add(Dropout(0.5))\n",
    "\n",
    "model.add(Flatten())\n",
    "model.add(Dense(units=64))\n",
    "model.add(Activation('relu'))\n",
    "\n",
    "model.add(Dense(units=81))\n",
    "model.add(Activation('softmax'))\n",
    "\n",
    "\n",
    "model.compile(loss='categorical_crossentropy',optimizer='adam',metrics = ['accuracy'])\n",
    "\n",
    "\n",
    "\n",
    "\n"
   ]
  },
  {
   "cell_type": "code",
   "execution_count": 40,
   "metadata": {},
   "outputs": [],
   "source": [
    "y_train = keras.utils.to_categorical(y_train,num_classes=81)"
   ]
  },
  {
   "cell_type": "code",
   "execution_count": 41,
   "metadata": {},
   "outputs": [
    {
     "data": {
      "text/plain": [
       "(1, 41322, 81)"
      ]
     },
     "execution_count": 41,
     "metadata": {},
     "output_type": "execute_result"
    }
   ],
   "source": [
    "y_train.shape"
   ]
  },
  {
   "cell_type": "code",
   "execution_count": 42,
   "metadata": {},
   "outputs": [],
   "source": [
    "y_train = y_train.reshape(41322,81)"
   ]
  },
  {
   "cell_type": "code",
   "execution_count": 45,
   "metadata": {},
   "outputs": [
    {
     "data": {
      "text/plain": [
       "(64, 64, 1)"
      ]
     },
     "execution_count": 45,
     "metadata": {},
     "output_type": "execute_result"
    }
   ],
   "source": [
    "X_train[0].shape"
   ]
  },
  {
   "cell_type": "code",
   "execution_count": 46,
   "metadata": {},
   "outputs": [
    {
     "data": {
      "text/plain": [
       "(64, 64)"
      ]
     },
     "execution_count": 46,
     "metadata": {},
     "output_type": "execute_result"
    }
   ],
   "source": [
    "X_test[0].shape"
   ]
  },
  {
   "cell_type": "code",
   "execution_count": 47,
   "metadata": {},
   "outputs": [
    {
     "name": "stdout",
     "output_type": "stream",
     "text": [
      "Epoch 1/10\n",
      "41322/41322 [==============================] - 1034s 25ms/step - loss: 1.2258 - acc: 0.6468\n",
      "Epoch 2/10\n",
      "41322/41322 [==============================] - 1010s 24ms/step - loss: 0.3230 - acc: 0.8946\n",
      "Epoch 3/10\n",
      "41322/41322 [==============================] - 1030s 25ms/step - loss: 0.2230 - acc: 0.9249\n",
      "Epoch 4/10\n",
      "41322/41322 [==============================] - 996s 24ms/step - loss: 0.1783 - acc: 0.9404\n",
      "Epoch 5/10\n",
      "41322/41322 [==============================] - 955s 23ms/step - loss: 0.1528 - acc: 0.9489\n",
      "Epoch 6/10\n",
      "41322/41322 [==============================] - 993s 24ms/step - loss: 0.1422 - acc: 0.9529\n",
      "Epoch 7/10\n",
      "41322/41322 [==============================] - 984s 24ms/step - loss: 0.1397 - acc: 0.9552\n",
      "Epoch 8/10\n",
      "41322/41322 [==============================] - 980s 24ms/step - loss: 0.1311 - acc: 0.9579\n",
      "Epoch 9/10\n",
      "41322/41322 [==============================] - 1010s 24ms/step - loss: 0.1253 - acc: 0.9601\n",
      "Epoch 10/10\n",
      "41322/41322 [==============================] - 1010s 24ms/step - loss: 0.1267 - acc: 0.9617\n"
     ]
    },
    {
     "data": {
      "text/plain": [
       "<keras.callbacks.History at 0x20f5b67d4e0>"
      ]
     },
     "execution_count": 47,
     "metadata": {},
     "output_type": "execute_result"
    }
   ],
   "source": [
    "model.fit(X_train,y_train,epochs=10,batch_size=10)"
   ]
  },
  {
   "cell_type": "markdown",
   "metadata": {},
   "source": [
    "# Preparing the test data for evaluation and prediction"
   ]
  },
  {
   "cell_type": "code",
   "execution_count": 50,
   "metadata": {},
   "outputs": [],
   "source": [
    "X_test = np.array(X_test).reshape(-1,64,64,1)"
   ]
  },
  {
   "cell_type": "code",
   "execution_count": 56,
   "metadata": {},
   "outputs": [],
   "source": [
    "y_test = keras.utils.to_categorical(y_test,81)"
   ]
  },
  {
   "cell_type": "code",
   "execution_count": 62,
   "metadata": {},
   "outputs": [
    {
     "name": "stdout",
     "output_type": "stream",
     "text": [
      "13877/13877 [==============================] - 45s 3ms/step\n"
     ]
    }
   ],
   "source": [
    "loss,acc = model.evaluate(X_test,y_test)"
   ]
  },
  {
   "cell_type": "code",
   "execution_count": 63,
   "metadata": {},
   "outputs": [
    {
     "name": "stdout",
     "output_type": "stream",
     "text": [
      "LOSS:  0.601253939623\n",
      "ACCURACY:  0.859912084745\n"
     ]
    }
   ],
   "source": [
    "print('LOSS: ',loss)\n",
    "print('ACCURACY: ',acc)"
   ]
  },
  {
   "cell_type": "markdown",
   "metadata": {},
   "source": [
    "# PREDICTIONS"
   ]
  },
  {
   "cell_type": "code",
   "execution_count": 64,
   "metadata": {},
   "outputs": [],
   "source": [
    "pred = model.predict(X_test)"
   ]
  },
  {
   "cell_type": "code",
   "execution_count": 74,
   "metadata": {},
   "outputs": [
    {
     "data": {
      "text/plain": [
       "(13877, 81)"
      ]
     },
     "execution_count": 74,
     "metadata": {},
     "output_type": "execute_result"
    }
   ],
   "source": [
    "pred.shape"
   ]
  },
  {
   "cell_type": "code",
   "execution_count": 75,
   "metadata": {},
   "outputs": [
    {
     "data": {
      "text/plain": [
       "(13877, 81)"
      ]
     },
     "execution_count": 75,
     "metadata": {},
     "output_type": "execute_result"
    }
   ],
   "source": [
    "y_test.shape"
   ]
  },
  {
   "cell_type": "code",
   "execution_count": 76,
   "metadata": {},
   "outputs": [],
   "source": [
    "data_pred = np.argmax(y_test,axis=1)"
   ]
  },
  {
   "cell_type": "code",
   "execution_count": 77,
   "metadata": {},
   "outputs": [],
   "source": [
    "my_pred = np.argmax(pred,axis=1)"
   ]
  },
  {
   "cell_type": "code",
   "execution_count": 80,
   "metadata": {},
   "outputs": [],
   "source": [
    "from sklearn.metrics import classification_report,confusion_matrix"
   ]
  },
  {
   "cell_type": "code",
   "execution_count": 81,
   "metadata": {},
   "outputs": [
    {
     "name": "stdout",
     "output_type": "stream",
     "text": [
      "             precision    recall  f1-score   support\n",
      "\n",
      "          0       1.00      0.65      0.79       164\n",
      "          1       0.00      0.00      0.00       164\n",
      "          2       0.85      0.81      0.83       164\n",
      "          3       0.65      0.75      0.70       161\n",
      "          4       0.72      0.63      0.67       164\n",
      "          5       1.00      0.57      0.73       164\n",
      "          6       0.74      0.70      0.72       164\n",
      "          7       1.00      0.62      0.77       144\n",
      "          8       1.00      0.92      0.96       166\n",
      "          9       0.73      0.75      0.74       164\n",
      "         10       0.67      1.00      0.80       164\n",
      "         11       0.98      0.85      0.91       143\n",
      "         12       0.88      1.00      0.94       166\n",
      "         13       0.70      0.86      0.78       166\n",
      "         14       0.98      0.49      0.65       166\n",
      "         15       0.88      0.86      0.87       166\n",
      "         16       0.00      0.00      0.00       164\n",
      "         17       0.61      1.00      0.75       164\n",
      "         18       1.00      0.33      0.50       166\n",
      "         19       0.55      0.48      0.51       164\n",
      "         20       0.68      0.74      0.71       246\n",
      "         21       0.99      0.74      0.85       246\n",
      "         22       1.00      1.00      1.00       164\n",
      "         23       1.00      1.00      1.00       164\n",
      "         24       1.00      1.00      1.00       164\n",
      "         25       0.96      0.90      0.93       166\n",
      "         26       1.00      0.91      0.95       166\n",
      "         27       0.94      1.00      0.97       166\n",
      "         28       0.95      1.00      0.98       166\n",
      "         29       0.97      1.00      0.98       164\n",
      "         30       0.51      1.00      0.67       166\n",
      "         31       0.00      0.00      0.00       166\n",
      "         32       0.63      1.00      0.77       166\n",
      "         33       0.85      1.00      0.92       164\n",
      "         34       0.73      1.00      0.85       166\n",
      "         35       0.99      0.95      0.97       166\n",
      "         36       0.94      0.96      0.95       166\n",
      "         37       1.00      1.00      1.00       156\n",
      "         38       0.76      1.00      0.87       166\n",
      "         39       0.74      1.00      0.85       164\n",
      "         40       0.75      1.00      0.86       166\n",
      "         41       0.91      0.99      0.95       166\n",
      "         42       1.00      0.59      0.74       166\n",
      "         43       0.84      0.97      0.90       166\n",
      "         44       0.82      0.85      0.83       166\n",
      "         45       0.89      1.00      0.94       166\n",
      "         46       1.00      1.00      1.00       246\n",
      "         47       0.95      0.99      0.97       164\n",
      "         48       0.82      0.62      0.71       164\n",
      "         49       0.80      1.00      0.89       160\n",
      "         50       0.98      1.00      0.99       164\n",
      "         51       0.99      1.00      1.00       166\n",
      "         52       0.52      0.76      0.62       164\n",
      "         53       0.84      1.00      0.91       164\n",
      "         54       1.00      0.90      0.95       164\n",
      "         55       0.96      0.89      0.92       166\n",
      "         56       0.97      0.71      0.82       166\n",
      "         57       0.93      0.99      0.96       166\n",
      "         58       0.64      0.67      0.65       166\n",
      "         59       0.94      1.00      0.97       164\n",
      "         60       0.69      0.80      0.74       164\n",
      "         61       1.00      1.00      1.00       166\n",
      "         62       1.00      1.00      1.00       163\n",
      "         63       0.88      0.69      0.77       166\n",
      "         64       1.00      1.00      1.00       151\n",
      "         65       0.80      1.00      0.89       164\n",
      "         66       0.98      0.76      0.85       166\n",
      "         67       1.00      1.00      1.00       164\n",
      "         68       1.00      1.00      1.00       166\n",
      "         69       0.63      1.00      0.77       162\n",
      "         70       1.00      0.94      0.97       164\n",
      "         71       0.98      0.91      0.95       246\n",
      "         72       0.98      1.00      0.99       166\n",
      "         73       0.97      0.96      0.97       166\n",
      "         74       1.00      1.00      1.00       246\n",
      "         75       0.99      1.00      1.00       225\n",
      "         76       1.00      1.00      1.00       246\n",
      "         77       1.00      1.00      1.00       160\n",
      "         78       0.99      1.00      1.00       164\n",
      "         79       1.00      1.00      1.00       127\n",
      "         80       1.00      1.00      1.00       249\n",
      "\n",
      "avg / total       0.86      0.86      0.85     13877\n",
      "\n"
     ]
    },
    {
     "name": "stderr",
     "output_type": "stream",
     "text": [
      "C:\\PythonIDE\\lib\\site-packages\\sklearn\\metrics\\classification.py:1135: UndefinedMetricWarning: Precision and F-score are ill-defined and being set to 0.0 in labels with no predicted samples.\n",
      "  'precision', 'predicted', average, warn_for)\n"
     ]
    }
   ],
   "source": [
    "print(classification_report(data_pred,my_pred))"
   ]
  },
  {
   "cell_type": "code",
   "execution_count": 82,
   "metadata": {},
   "outputs": [
    {
     "name": "stdout",
     "output_type": "stream",
     "text": [
      "[[106   0   0 ...,   0   0   0]\n",
      " [  0   0  23 ...,   0   0   0]\n",
      " [  0   2 133 ...,   0   0   0]\n",
      " ..., \n",
      " [  0   0   0 ..., 164   0   0]\n",
      " [  0   0   0 ...,   0 127   0]\n",
      " [  0   0   0 ...,   1   0 248]]\n"
     ]
    }
   ],
   "source": [
    "print(confusion_matrix(data_pred,my_pred))"
   ]
  },
  {
   "cell_type": "code",
   "execution_count": 83,
   "metadata": {},
   "outputs": [],
   "source": [
    "import seaborn as sns"
   ]
  },
  {
   "cell_type": "code",
   "execution_count": 84,
   "metadata": {},
   "outputs": [
    {
     "data": {
      "text/plain": [
       "<matplotlib.axes._subplots.AxesSubplot at 0x20f5cbb3a90>"
      ]
     },
     "execution_count": 84,
     "metadata": {},
     "output_type": "execute_result"
    },
    {
     "data": {
      "image/png": "[encoded data removed]",
      "text/plain": [
       "<matplotlib.figure.Figure at 0x20f48dace48>"
      ]
     },
     "metadata": {},
     "output_type": "display_data"
    }
   ],
   "source": [
    "sns.heatmap(np.array(confusion_matrix(data_pred,my_pred)))"
   ]
  },
  {
   "cell_type": "code",
   "execution_count": null,
   "metadata": {},
   "outputs": [],
   "source": []
  }
 ],
 "metadata": {
  "kernelspec": {
   "display_name": "Python 3",
   "language": "python",
   "name": "python3"
  },
  "language_info": {
   "codemirror_mode": {
    "name": "ipython",
    "version": 3
   },
   "file_extension": ".py",
   "mimetype": "text/x-python",
   "name": "python",
   "nbconvert_exporter": "python",
   "pygments_lexer": "ipython3",
   "version": "3.6.3"
  }
 },
 "nbformat": 4,
 "nbformat_minor": 2
}
